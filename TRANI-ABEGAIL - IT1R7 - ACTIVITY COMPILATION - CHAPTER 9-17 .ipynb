{
 "cells": [
  {
   "cell_type": "code",
   "execution_count": 4,
   "id": "documented-blind",
   "metadata": {},
   "outputs": [
    {
     "name": "stdout",
     "output_type": "stream",
     "text": [
      "I. Discuss your learnings on from Chapter 9 to Chapter 17\n",
      "\n"
     ]
    }
   ],
   "source": [
    "print(\"I. Discuss your learnings on from Chapter 9 to Chapter 17\\n\")"
   ]
  },
  {
   "cell_type": "code",
   "execution_count": 1,
   "id": "taken-diana",
   "metadata": {},
   "outputs": [
    {
     "name": "stdout",
     "output_type": "stream",
     "text": [
      "This is my learnings in chapter 9 Minimum of 200 words\n",
      "\n",
      "This chapter discusses Graph Introduction, and based on my understanding, nodes are the ones that link us. For example, your friends or other people you may know have another connection, and it is an undirected graph, which means there is no path between two nodes, while a directed graph has a direction between two or more nodes as long as they are connected. The individual entities are called nodes and the thing that connects those entities are called edges. At first, I was confused as to what the difference between a graph and a tree is since they are similar in terms of connecting nodes, but as I watched the video, I began to understand. A tree has only one path between two nodes, which we can link any two nodes at random as long as we can find the final route, while a graph is made up of a group of nodes and edges. A graph data structure is valuable to learn and master because it can be used to solve a variety of problems in real-life situations.\n"
     ]
    }
   ],
   "source": [
    "print(\"This is my learnings in chapter 9 Minimum of 200 words\")\n",
    "\n",
    "print(\"\\nThis chapter discusses Graph Introduction, and based on my understanding, nodes are the ones that link us. For example, your friends or other people you may know have another connection, and it is an undirected graph, which means there is no path between two nodes, while a directed graph has a direction between two or more nodes as long as they are connected. The individual entities are called nodes and the thing that connects those entities are called edges. At first, I was confused as to what the difference between a graph and a tree is since they are similar in terms of connecting nodes, but as I watched the video, I began to understand. A tree has only one path between two nodes, which we can link any two nodes at random as long as we can find the final route, while a graph is made up of a group of nodes and edges. A graph data structure is valuable to learn and master because it can be used to solve a variety of problems in real-life situations.\")"
   ]
  },
  {
   "cell_type": "code",
   "execution_count": 2,
   "id": "informational-heath",
   "metadata": {},
   "outputs": [
    {
     "name": "stdout",
     "output_type": "stream",
     "text": [
      "This is my learnings in chapter 10 Minimum of 200 words\n",
      "\n",
      "This chapter discusses binary search, and I learned that binary search is an algorithm for finding an element in a sorted array. The aim value is compared to the array's middle element in this algorithm. If the values are not equal and the target value is less than the middle value, the larger half is removed, while the smaller half is eliminated if the target value is greater than the middle value. As a result, the array is reduced after each comparison. This method is repeated until the target value is found or until the target value is not found.\n"
     ]
    }
   ],
   "source": [
    "print(\"This is my learnings in chapter 10 Minimum of 200 words\")\n",
    "\n",
    "print(\"\\nThis chapter discusses binary search, and I learned that binary search is an algorithm for finding an element in a sorted array. The aim value is compared to the array's middle element in this algorithm. If the values are not equal and the target value is less than the middle value, the larger half is removed, while the smaller half is eliminated if the target value is greater than the middle value. As a result, the array is reduced after each comparison. This method is repeated until the target value is found or until the target value is not found.\")"
   ]
  },
  {
   "cell_type": "code",
   "execution_count": 3,
   "id": "chinese-customs",
   "metadata": {},
   "outputs": [
    {
     "name": "stdout",
     "output_type": "stream",
     "text": [
      "This is my learnings in chapter 11 Minimum of 200 words\n",
      "\n",
      "Bubble sorting is a technique for sorting a list or an array. This technique is described as the most popular strategy for sorting in data structures and algorithm tutorials. It sorts in O(n2) time complexity, so it isn't the fastest, but it's probably the easiest to grasp. If the specified array must be sorted in ascending order, bubble sort will begin by comparing the first element, swapping both elements if the first element is greater than the second, and then comparing the second and third elements, and so on.\n"
     ]
    }
   ],
   "source": [
    "print(\"This is my learnings in chapter 11 Minimum of 200 words\")\n",
    "\n",
    "print(\"\\nBubble sorting is a technique for sorting a list or an array. This technique is described as the most popular strategy for sorting in data structures and algorithm tutorials. It sorts in O(n2) time complexity, so it isn't the fastest, but it's probably the easiest to grasp. If the specified array must be sorted in ascending order, bubble sort will begin by comparing the first element, swapping both elements if the first element is greater than the second, and then comparing the second and third elements, and so on.\")"
   ]
  },
  {
   "cell_type": "code",
   "execution_count": 9,
   "id": "restricted-result",
   "metadata": {},
   "outputs": [
    {
     "name": "stdout",
     "output_type": "stream",
     "text": [
      "This is my learnings in chapter 12 Minimum of 200 words\n",
      "\n",
      "Quicksort is based on the divide-and-conquer strategy. It operates by picking a 'pivot' element from the array and separating the other elements into two sub-arrays based on whether they are greater or less than the pivot. As a result, it's also known as partition-exchange sort. Recursively sorting the sub-arrays follows. This can be done on-the-fly, with only a little amount of additional memory required to sort the data. Quicksort is a comparison sort, which means it may sort objects of any type that have a 'less-than' relation. Quicksort is not a stable sort, which means that the relative order of equal sort items is not retained in efficient implementations.\n"
     ]
    }
   ],
   "source": [
    "print(\"This is my learnings in chapter 12 Minimum of 200 words\")\n",
    "\n",
    "print(\"\\nQuicksort is based on the divide-and-conquer strategy. It operates by picking a 'pivot' element from the array and separating the other elements into two sub-arrays based on whether they are greater or less than the pivot. As a result, it's also known as partition-exchange sort. Recursively sorting the sub-arrays follows. This can be done on-the-fly, with only a little amount of additional memory required to sort the data. Quicksort is a comparison sort, which means it may sort objects of any type that have a 'less-than' relation. Quicksort is not a stable sort, which means that the relative order of equal sort items is not retained in efficient implementations.\")"
   ]
  },
  {
   "cell_type": "code",
   "execution_count": 10,
   "id": "caroline-uruguay",
   "metadata": {},
   "outputs": [
    {
     "name": "stdout",
     "output_type": "stream",
     "text": [
      "This is my learnings in chapter 13 Minimum of 200 words\n",
      "\n",
      "Insertion sort is a straightforward sorting method that creates the final sorted array one item at a time. On huge lists, it is substantially less efficient than more complex algorithms like quicksort, heap sort, or merge sort. Insertion sort iterates through the input list, eating one element each time, and producing a sorted output list. Insertion sort takes one element from the input data at a time, finds where it belongs in the sorted list, and inserts it there. It keeps going until there are no more input components. Iterating along the array, increasing the sorted list behind it, is how most sorting is done in-place. It compares the value at each array-position to the greatest value in the sorted list.\n"
     ]
    }
   ],
   "source": [
    "print(\"This is my learnings in chapter 13 Minimum of 200 words\")\n",
    "\n",
    "print(\"\\nInsertion sort is a straightforward sorting method that creates the final sorted array one item at a time. On huge lists, it is substantially less efficient than more complex algorithms like quicksort, heap sort, or merge sort. Insertion sort iterates through the input list, eating one element each time, and producing a sorted output list. Insertion sort takes one element from the input data at a time, finds where it belongs in the sorted list, and inserts it there. It keeps going until there are no more input components. Iterating along the array, increasing the sorted list behind it, is how most sorting is done in-place. It compares the value at each array-position to the greatest value in the sorted list.\")"
   ]
  },
  {
   "cell_type": "code",
   "execution_count": 11,
   "id": "incomplete-immune",
   "metadata": {},
   "outputs": [
    {
     "name": "stdout",
     "output_type": "stream",
     "text": [
      "This is my learnings in chapter 14 Minimum of 200 words\n",
      "\n",
      "Merge sort is a comparison-based, efficient, and general-purpose sorting algorithm. The majority of implementations result in a stable sort, which indicates that the order of equal elements in the input and output is the same. Because of its great parallelization capabilities, the merge sort method is particularly scalable, allowing for the usage of many processors. As a result, the technique is a good fit for sorting massive amounts of data, such as those generated by computer clusters. Furthermore, because memory is rarely a limiting resource in such systems, the disadvantage of merge sort's space complexity is minor.\n"
     ]
    }
   ],
   "source": [
    "print(\"This is my learnings in chapter 14 Minimum of 200 words\")\n",
    "\n",
    "print(\"\\nMerge sort is a comparison-based, efficient, and general-purpose sorting algorithm. The majority of implementations result in a stable sort, which indicates that the order of equal elements in the input and output is the same. Because of its great parallelization capabilities, the merge sort method is particularly scalable, allowing for the usage of many processors. As a result, the technique is a good fit for sorting massive amounts of data, such as those generated by computer clusters. Furthermore, because memory is rarely a limiting resource in such systems, the disadvantage of merge sort's space complexity is minor.\")"
   ]
  },
  {
   "cell_type": "code",
   "execution_count": 13,
   "id": "complicated-musical",
   "metadata": {},
   "outputs": [
    {
     "name": "stdout",
     "output_type": "stream",
     "text": [
      "This is my learnings in chapter 15 Minimum of 200 words\n",
      "\n",
      "Shell sort, also known as Shell's approach, is a comparison sort that is performed in-place. It's either a generalization of sorting by exchange or a generalization of sorting by insertion. Shellsort's execution time is strongly influenced by the gap sequence it employs. Determining the temporal complexity of various practical versions is still a work in progress. Shell sort is an insertion sort optimization that allows items that are widely apart to be swapped. The goal is to arrange the components in such a way that taking every hath member from any point in the list results in a sorted list. The term 'h-sorted' refers to a list like this. It's also possible to think of it as a collection of h interleaved lists, each sorted separately.\n"
     ]
    }
   ],
   "source": [
    "print(\"This is my learnings in chapter 15 Minimum of 200 words\")\n",
    "\n",
    "print(\"\\nShell sort, also known as Shell's approach, is a comparison sort that is performed in-place. It's either a generalization of sorting by exchange or a generalization of sorting by insertion. Shellsort's execution time is strongly influenced by the gap sequence it employs. Determining the temporal complexity of various practical versions is still a work in progress. Shell sort is an insertion sort optimization that allows items that are widely apart to be swapped. The goal is to arrange the components in such a way that taking every hath member from any point in the list results in a sorted list. The term 'h-sorted' refers to a list like this. It's also possible to think of it as a collection of h interleaved lists, each sorted separately.\")"
   ]
  },
  {
   "cell_type": "code",
   "execution_count": 14,
   "id": "incorporated-spare",
   "metadata": {},
   "outputs": [
    {
     "name": "stdout",
     "output_type": "stream",
     "text": [
      "This is my learnings in chapter 16 Minimum of 200 words\n",
      "\n",
      "Selection sort is a sorting method that uses in-place comparisons. Its O time complexity makes it inefficient on large lists, and it generally outperforms the equivalent insertion sort. Selection sort is known for its simplicity, and in some instances, such as when auxiliary memory is limited, it outperforms more complicated algorithms. The method separates the input list into two parts: a sorted sublist of items at the head of the list that is built up from left to right, and a sublist of the remaining unsorted items that fill the rest of the list. The sorted sublist is initially empty, but the unsorted sublist contains the complete input list.\n"
     ]
    }
   ],
   "source": [
    "print(\"This is my learnings in chapter 16 Minimum of 200 words\")\n",
    "\n",
    "print(\"\\nSelection sort is a sorting method that uses in-place comparisons. Its O time complexity makes it inefficient on large lists, and it generally outperforms the equivalent insertion sort. Selection sort is known for its simplicity, and in some instances, such as when auxiliary memory is limited, it outperforms more complicated algorithms. The method separates the input list into two parts: a sorted sublist of items at the head of the list that is built up from left to right, and a sublist of the remaining unsorted items that fill the rest of the list. The sorted sublist is initially empty, but the unsorted sublist contains the complete input list.\")"
   ]
  },
  {
   "cell_type": "code",
   "execution_count": 15,
   "id": "brazilian-kruger",
   "metadata": {},
   "outputs": [
    {
     "name": "stdout",
     "output_type": "stream",
     "text": [
      "This is my learnings in chapter 17 Minimum of 200 words\n",
      "\n",
      "When one of the steps of a method involves invoking the method itself, the procedure is said to be recursive. A recursive procedure is one that goes through recursion. To comprehend recursion, one must grasp the difference between a procedure and the execution of a procedure. Recursion is similar to, but not the same as, a reference in a procedure's specification to the execution of another procedure. When a process is written in this way, the possibility of an endless loop is immediately created; recursion may only be utilized properly in a definition if the step in question is omitted in specific instances so that the method can finish.\n"
     ]
    }
   ],
   "source": [
    "print(\"This is my learnings in chapter 17 Minimum of 200 words\")\n",
    "\n",
    "print(\"\\nWhen one of the steps of a method involves invoking the method itself, the procedure is said to be recursive. A recursive procedure is one that goes through recursion. To comprehend recursion, one must grasp the difference between a procedure and the execution of a procedure. Recursion is similar to, but not the same as, a reference in a procedure's specification to the execution of another procedure. When a process is written in this way, the possibility of an endless loop is immediately created; recursion may only be utilized properly in a definition if the step in question is omitted in specific instances so that the method can finish.\")"
   ]
  },
  {
   "cell_type": "code",
   "execution_count": 16,
   "id": "impressed-raise",
   "metadata": {},
   "outputs": [
    {
     "name": "stdout",
     "output_type": "stream",
     "text": [
      "II. Answer the following questions:\n",
      "\n"
     ]
    }
   ],
   "source": [
    "print(\"II. Answer the following questions:\\n\")"
   ]
  },
  {
   "cell_type": "code",
   "execution_count": 17,
   "id": "documentary-victorian",
   "metadata": {},
   "outputs": [
    {
     "name": "stdout",
     "output_type": "stream",
     "text": [
      "Q1.\n",
      "Implement the simple methods get_num and get_den that will return the numerator and denominator of a fraction.\n",
      "\n",
      "Numerator:  4\n",
      "Denominator:  2\n"
     ]
    }
   ],
   "source": [
    "print(\"Q1.\")\n",
    "print(\"Implement the simple methods get_num and get_den that will return the numerator and denominator of a fraction.\")\n",
    "print(\"\")\n",
    "def get_num(num1):\n",
    "    return num1\n",
    "def get_den(den1):\n",
    "    return den1\n",
    "\n",
    "num = 4\n",
    "den = 2\n",
    "\n",
    "print(\"Numerator: \",get_num(num))\n",
    "print(\"Denominator: \",get_den(den))"
   ]
  },
  {
   "cell_type": "code",
   "execution_count": 18,
   "id": "sonic-monkey",
   "metadata": {},
   "outputs": [
    {
     "name": "stdout",
     "output_type": "stream",
     "text": [
      "Q2.\n",
      "Research the __radd__ method. How does it differ from __add__? When is it used? Implement __radd__\n",
      "\n",
      "__add__ takes an input string and returns an instance containing the data and concatenates it, whereas __radd__ adds the string first and then the user-defined class..\n",
      "\n",
      "<__main__.Upper object at 0x0000026F70BB61F0>\n"
     ]
    }
   ],
   "source": [
    "print(\"Q2.\")\n",
    "\n",
    "print(\"Research the __radd__ method. How does it differ from __add__? When is it used? Implement __radd__\")\n",
    "print(\"\")\n",
    "\n",
    "print(\"__add__ takes an input string and returns an instance containing the data and concatenates it, whereas __radd__ adds the string first and then the user-defined class..\")\n",
    "print(\"\")\n",
    "class Upper:\n",
    "    def __init__(self, initial):\n",
    "        self.data = initial.upper()\n",
    "    def __add__(self,other):\n",
    "        return Upper(self.data + other)\n",
    "\n",
    "u = Upper('Nani')\n",
    "\n",
    "a = u+\"Who knows\" \n",
    "\n",
    "print(a)"
   ]
  },
  {
   "cell_type": "code",
   "execution_count": 19,
   "id": "vocational-death",
   "metadata": {},
   "outputs": [
    {
     "name": "stdout",
     "output_type": "stream",
     "text": [
      "Q3.\n",
      "Research the __repr__ method. How does it differ from __str__? When is it used? Implement __repr__.\n",
      "\n",
      ".The purpose of __repr__ is to be explicit, whereas the purpose of __str__ is to be readable. \n",
      "\n",
      "Instance Name of class User\n"
     ]
    }
   ],
   "source": [
    "print(\"Q3.\")\n",
    "\n",
    "print(\"Research the __repr__ method. How does it differ from __str__? When is it used? Implement __repr__.\")\n",
    "print(\"\")\n",
    "print(\".The purpose of __repr__ is to be explicit, whereas the purpose of __str__ is to be readable. \")\n",
    "print(\"\")\n",
    "class User:\n",
    "    def __init__(self, name):\n",
    "        self.username = name\n",
    "    def __repr__(self):\n",
    "        return 'Instance {} of class User'.format(self.username)\n",
    "\n",
    "lp = User('Name')\n",
    "\n",
    "print(lp)"
   ]
  },
  {
   "cell_type": "code",
   "execution_count": 22,
   "id": "pretty-tongue",
   "metadata": {},
   "outputs": [
    {
     "name": "stdout",
     "output_type": "stream",
     "text": [
      "Q4.\n",
      "The most simple arithmetic circuit is known as the half adder. Research the simple half-adder circuit. Implement this circuit.\n",
      "\n",
      "The SUM is:   250\n",
      "CARRY is:     0\n"
     ]
    }
   ],
   "source": [
    "print(\"Q4.\")\n",
    "print(\"The most simple arithmetic circuit is known as the half adder. Research the simple half-adder circuit. Implement this circuit.\")\n",
    "print(\"\")\n",
    "def getResult(X, Y):\n",
    "    Sum = X ^ Y\n",
    "    Carry = X & Y\n",
    "    print(\"The SUM is:  \", Sum)\n",
    "    print(\"CARRY is:    \", Carry)\n",
    "X = 200\n",
    "Y = 50\n",
    "getResult(X, Y)"
   ]
  },
  {
   "cell_type": "code",
   "execution_count": 23,
   "id": "exotic-completion",
   "metadata": {},
   "outputs": [
    {
     "name": "stdout",
     "output_type": "stream",
     "text": [
      "Q5.\n",
      "\n",
      "Design a class to represent a playing card and another one to represent a deck of cards. Using these two classes, implement your favorite card game.\n",
      "\n"
     ]
    }
   ],
   "source": [
    "print(\"Q5.\")\n",
    "print(\"\")\n",
    "print(\"Design a class to represent a playing card and another one to represent a deck of cards. Using these two classes, implement your favorite card game.\")\n",
    "print(\"\")\n",
    "class Card(object):\n",
    "    \"\"\" Represents a standard playing card.\n",
    "    Attributes:\n",
    "        suit: Integer 0-3\n",
    "        rank: Integer 1-13\n",
    "    \"\"\"\n",
    "\n",
    "    suit_names = [\"Clubs\", \"Diamonds\", \"Hearts\", \"Spades\"]\n",
    "    rank_names = [None, \"2\", \"3\", \"4\", \"5\", \"6\", \"7\", \"8\",\n",
    "                  \"9\", \"10\", \"Jack\", \"Queen\", \"King\", \"Ace\"]\n",
    "\n",
    "    def __init__(self, suit=0, rank=1):\n",
    "        self.suit = suit\n",
    "        self.rank = rank\n",
    "\n",
    "    def __str__(self):\n",
    "        \"\"\" returns a human readable string representation \"\"\"\n",
    "        return '%s of %s' % (Card.rank_names[self.rank],\n",
    "                             Card.suit_names[self.suit])\n",
    "\n",
    "    def __lt__(self, other):\n",
    "        \"\"\" Compares this card to other, only by rank (no suit comparison)\n",
    "        Returns a positive number if this > other, negative otherwise.\n",
    "        Returns 0 if the cards are of same rank\n",
    "        \"\"\"\n",
    "        # t1 = self.rank\n",
    "        # t2 = other.rank\n",
    "        t1 = self.suit, self.rank\n",
    "        t2 = other.suit, other.rank\n",
    "        return t1 < t2\n",
    "\n",
    "    def getRank(self):\n",
    "        return self.rank"
   ]
  },
  {
   "cell_type": "code",
   "execution_count": 24,
   "id": "convinced-commodity",
   "metadata": {},
   "outputs": [
    {
     "name": "stdout",
     "output_type": "stream",
     "text": [
      "Q6.\n",
      "\n",
      "Design and implement an experiment to do benchmark comparisons of the two queue(enqueue,dequeue) implementations. What can you learn from such an experiment?\n",
      "\n",
      "<__main__.Queue object at 0x0000026F70ABFEE0>\n",
      "deque(['Abe', 'Gail', 'Jhan'])\n",
      "Adding to the right: \n",
      "deque(['Abe', 'Gail', 'Jhan', 'Mary'])\n",
      "Adding to the left: \n",
      "deque(['Grace', 'Abe', 'Gail', 'Jhan', 'Mary'])\n",
      "Removing from the right: \n",
      "deque(['Grace', 'Abe', 'Gail', 'Jhan'])\n",
      "Removing from the left: \n",
      "deque(['Abe', 'Gail', 'Jhan'])\n",
      "Reversing the deque: \n",
      "deque(['Jhan', 'Gail', 'Abe'])\n"
     ]
    }
   ],
   "source": [
    "print(\"Q6.\")\n",
    "\n",
    "print(\"\")\n",
    "print(\"Design and implement an experiment to do benchmark comparisons of the two queue(enqueue,dequeue) implementations. What can you learn from such an experiment?\")\n",
    "print(\"\")\n",
    "class Queue:\n",
    " \n",
    "  def __init__(self):\n",
    "      self.queue = list()\n",
    " \n",
    "  def addToQueue(self,value):\n",
    "# Insert method to add element\n",
    "      if value not in self.queue:\n",
    "          self.queue.insert(0,value)\n",
    "          return True\n",
    "      return False\n",
    " \n",
    "  def size(self):\n",
    "      return len(self.queue)\n",
    " \n",
    "MySuperHero = Queue()\n",
    "MySuperHero.addToQueue(\"WonderWoman\")\n",
    "MySuperHero.addToQueue(\"Captain America\")\n",
    "MySuperHero.addToQueue(\"Hulk\")\n",
    "MySuperHero.addToQueue(\"SpiderMan\")\n",
    "MySuperHero.addToQueue(\"Katana\")\n",
    "print(MySuperHero)\n",
    "\n",
    "import collections\n",
    " \n",
    "# Create a deque\n",
    "DoubleEnded = collections.deque([\"Abe\",\"Gail\",\"Jhan\"])\n",
    "print (DoubleEnded)\n",
    " \n",
    "# Append to the right\n",
    "print(\"Adding to the right: \")\n",
    "DoubleEnded.append(\"Mary\")\n",
    "print (DoubleEnded)\n",
    " \n",
    "# append to the left\n",
    "print(\"Adding to the left: \")\n",
    "DoubleEnded.appendleft(\"Grace\")\n",
    "print (DoubleEnded)\n",
    " \n",
    "# Remove from the right\n",
    "print(\"Removing from the right: \")\n",
    "DoubleEnded.pop()\n",
    "print (DoubleEnded)\n",
    " \n",
    "# Remove from the left\n",
    "print(\"Removing from the left: \")\n",
    "DoubleEnded.popleft()\n",
    "print (DoubleEnded)\n",
    " \n",
    "# Reverse the dequeue\n",
    "print(\"Reversing the deque: \")\n",
    "DoubleEnded.reverse()\n",
    "print (DoubleEnded)"
   ]
  },
  {
   "cell_type": "code",
   "execution_count": 26,
   "id": "bigger-destination",
   "metadata": {},
   "outputs": [
    {
     "name": "stdout",
     "output_type": "stream",
     "text": [
      "Q7.\n",
      "\n",
      "Consider a real life situation. Formulate a question and then design a simulation that can help to answer it.\n",
      "\n",
      "Robbery in the store incidents. How to minimize robbery incidents?\n",
      "Always monitor the cctv.\n",
      "Be alert\n",
      "Be Attentive\n",
      "• Observe\n"
     ]
    }
   ],
   "source": [
    "print(\"Q7.\")\n",
    "print(\"\")\n",
    "print(\"Consider a real life situation. Formulate a question and then design a simulation that can help to answer it.\")\n",
    "print(\"\")\n",
    "print(\"Robbery in the store incidents. How to minimize robbery incidents?\")\n",
    "print(\"Always monitor the cctv.\")\n",
    "print(\"Be alert\")\n",
    "print(\"Be Attentive\")\n",
    "print(\"• Observe\")"
   ]
  },
  {
   "cell_type": "code",
   "execution_count": 27,
   "id": "imported-anatomy",
   "metadata": {},
   "outputs": [
    {
     "name": "stdout",
     "output_type": "stream",
     "text": [
      "Q8.\n",
      "\n",
      "Implement a queue using linked lists.\n",
      "\n",
      "['Abegail', 'Abragan', 'Trani']\n",
      "Abegail\n",
      "['Abragan', 'Trani']\n"
     ]
    }
   ],
   "source": [
    "print(\"Q8.\")\n",
    "print(\"\")\n",
    "print(\"Implement a queue using linked lists.\")\n",
    "print(\"\")\n",
    "queue = [\"Abegail\", \"Abragan\"]\n",
    "queue.append(\"Trani\")\n",
    "print(queue)\n",
    "  \n",
    "# Removes the first item\n",
    "print(queue.pop(0))\n",
    "  \n",
    "print(queue)"
   ]
  },
  {
   "cell_type": "code",
   "execution_count": 28,
   "id": "serial-satellite",
   "metadata": {},
   "outputs": [
    {
     "name": "stdout",
     "output_type": "stream",
     "text": [
      "Q9.\n",
      "\n",
      "Write a recursive function to compute the factorial of a number.\n",
      "\n",
      "The factorial of 12 is 479001600\n"
     ]
    }
   ],
   "source": [
    "print(\"Q9.\")\n",
    "\n",
    "print(\"\")\n",
    "print(\"Write a recursive function to compute the factorial of a number.\")\n",
    "print(\"\")\n",
    "\n",
    "def recur_factorial(n):\n",
    "   if n == 1:\n",
    "       return n\n",
    "   else:\n",
    "       return n*recur_factorial(n-1)\n",
    "\n",
    "num = 12\n",
    "\n",
    "\n",
    "print(\"The factorial of\", num, \"is\", recur_factorial(num))"
   ]
  },
  {
   "cell_type": "code",
   "execution_count": 29,
   "id": "smaller-organ",
   "metadata": {},
   "outputs": [
    {
     "name": "stdout",
     "output_type": "stream",
     "text": [
      "Q10.\n",
      "\n",
      "Set up a random experiment to test the difference between a sequential search and a binary search on a list of integers.\n",
      "\n",
      "Element is present at index 3\n",
      "(True, 3)\n"
     ]
    }
   ],
   "source": [
    "print(\"Q10.\")\n",
    "print(\"\")\n",
    "print(\"Set up a random experiment to test the difference between a sequential search and a binary search on a list of integers.\")\n",
    "print(\"\")\n",
    "def binary_search(arr, low, high, x):\n",
    " \n",
    "    # Check base case\n",
    "    if high >= low:\n",
    " \n",
    "        mid = (high + low) // 2\n",
    " \n",
    "        # If element is present at the middle itself\n",
    "        if arr[mid] == x:\n",
    "            return mid\n",
    " \n",
    "        # If element is smaller than mid, then it can only\n",
    "        # be present in left subarray\n",
    "        elif arr[mid] > x:\n",
    "            return binary_search(arr, low, mid - 1, x)\n",
    " \n",
    "        # Else the element can only be present in right subarray\n",
    "        else:\n",
    "            return binary_search(arr, mid + 1, high, x)\n",
    " \n",
    "    else:\n",
    "        # Element is not present in the array\n",
    "        return -1\n",
    " \n",
    "# Test array\n",
    "arr = [ 2, 3, 4, 10, 40 ]\n",
    "x = 10\n",
    " \n",
    "# Function call\n",
    "result = binary_search(arr, 0, len(arr)-1, x)\n",
    " \n",
    "if result != -1:\n",
    "    print(\"Element is present at index\", str(result))\n",
    "else:\n",
    "    print(\"Element is not present in array\")\n",
    "\n",
    "\n",
    "def Sequential_Search(dlist, item):\n",
    "\n",
    "    pos = 0\n",
    "    found = False\n",
    "    \n",
    "    while pos < len(dlist) and not found:\n",
    "        if dlist[pos] == item:\n",
    "            found = True\n",
    "        else:\n",
    "            pos = pos + 1\n",
    "    \n",
    "    return found, pos\n",
    "\n",
    "print(Sequential_Search([11,23,58,31,56,77,43,12,65,19],31))"
   ]
  },
  {
   "cell_type": "code",
   "execution_count": 30,
   "id": "undefined-address",
   "metadata": {},
   "outputs": [
    {
     "name": "stdout",
     "output_type": "stream",
     "text": [
      "Q11.\n",
      "\n",
      "Suppose you are a computer scientist/art thief who has broken into a major art gallery. All you have with you to haul out your stolen art is your knapsack which only holds W pounds of art, but for every piece of art you know its value and its weight. Write a dynamic programming function to help you maximize your profit. Here is a sample problem for you to use to get started: Suppose your knapsack can hold a total weight of 20. \n",
      "\n",
      "8\n"
     ]
    }
   ],
   "source": [
    "print(\"Q11.\")\n",
    "print(\"\")\n",
    "print(\"Suppose you are a computer scientist/art thief who has broken into a major art gallery. All you have with you to haul out your stolen art is your knapsack which only holds W pounds of art, but for every piece of art you know its value and its weight. Write a dynamic programming function to help you maximize your profit. Here is a sample problem for you to use to get started: Suppose your knapsack can hold a total weight of 20. \")\n",
    "print(\"\")\n",
    "def knapSack(W, wt, val, n):\n",
    "\n",
    "\t# Base Case\n",
    "\tif n == 0 or W == 0:\n",
    "\t\treturn 0\n",
    "\n",
    "\t# If weight of the nth item is\n",
    "\t# more than Knapsack of capacity W,\n",
    "\t# then this item cannot be included\n",
    "\t# in the optimal solution\n",
    "\tif (wt[n-1] > W):\n",
    "\t\treturn knapSack(W, wt, val, n-1)\n",
    "\n",
    "\t# return the maximum of two cases:\n",
    "\t# (1) nth item included\n",
    "\t# (2) not included\n",
    "\telse:\n",
    "\t\treturn max(\n",
    "\t\t\tval[n-1] + knapSack(\n",
    "\t\t\t\tW-wt[n-1], wt, val, n-1),\n",
    "\t\t\tknapSack(W, wt, val, n-1))\n",
    "\n",
    "# end of function knapSack\n",
    "\n",
    "\n",
    "#Driver Code\n",
    "val = [3, 4, 8,8,10]\n",
    "wt = [2, 3, 4,5,9]\n",
    "W = 5\n",
    "n = len(val)\n",
    "print (knapSack(W, wt, val, n))"
   ]
  },
  {
   "cell_type": "code",
   "execution_count": null,
   "id": "economic-mechanics",
   "metadata": {},
   "outputs": [],
   "source": []
  }
 ],
 "metadata": {
  "kernelspec": {
   "display_name": "Python 3",
   "language": "python",
   "name": "python3"
  },
  "language_info": {
   "codemirror_mode": {
    "name": "ipython",
    "version": 3
   },
   "file_extension": ".py",
   "mimetype": "text/x-python",
   "name": "python",
   "nbconvert_exporter": "python",
   "pygments_lexer": "ipython3",
   "version": "3.9.2"
  }
 },
 "nbformat": 4,
 "nbformat_minor": 5
}
